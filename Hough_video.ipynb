{
 "metadata": {
  "language_info": {
   "codemirror_mode": {
    "name": "ipython",
    "version": 3
   },
   "file_extension": ".py",
   "mimetype": "text/x-python",
   "name": "python",
   "nbconvert_exporter": "python",
   "pygments_lexer": "ipython3",
   "version": "3.6.10-final"
  },
  "orig_nbformat": 2,
  "kernelspec": {
   "name": "Python 3.6.10 64-bit ('wafaj': virtualenv)",
   "display_name": "Python 3.6.10 64-bit ('wafaj': virtualenv)",
   "metadata": {
    "interpreter": {
     "hash": "8be321ade1953842be7ff0d07d9dcb892d48de3c8f2cb356ce4863c829c0746a"
    }
   }
  }
 },
 "nbformat": 4,
 "nbformat_minor": 2,
 "cells": [
  {
   "source": [
    "# Demo Lines Detection with Hough Transform\n"
   ],
   "cell_type": "markdown",
   "metadata": {}
  },
  {
   "cell_type": "code",
   "execution_count": 6,
   "metadata": {},
   "outputs": [],
   "source": [
    "import cv2\n",
    "import matplotlib.pyplot as plt\n",
    "import numpy as np\n",
    "import time\n",
    "\n",
    "cap = cv2.VideoCapture('vid.mp4')\n",
    "\n",
    "while(cap.isOpened()):\n",
    "    ret, frame = cap.read()\n",
    "    if ret:\n",
    "        gray = cv2.cvtColor(frame, cv2.COLOR_BGR2GRAY)\n",
    "        blur1 = cv2.blur(gray,(5,5))\n",
    "        _, th_img = cv2.threshold(blur1,200,255,cv2.THRESH_BINARY)\n",
    "        blur = cv2.blur(th_img,(5,5))\n",
    "\n",
    "        edge = cv2.Canny(blur, 180, 255, 30)\n",
    "        lines = cv2.HoughLines(edge,1,np.pi/180, 200,20,0)\n",
    "\n",
    "        if lines is not None:\n",
    "            for i in range(len(lines)):\n",
    "                rho, theta = lines[i][0]\n",
    "                a = np.cos(theta)\n",
    "                b = np.sin(theta)\n",
    "                x0 = a*rho; y0 = b*rho\n",
    "                \n",
    "                xs = [int(x0 + 1000*(-b)), int(x0 - 1000*(-b))]\n",
    "                ys = [int(y0 + 1000*(a)), int(y0 - 1000*(a))]\n",
    "                cv2.line(frame,(int(x0 + 1000*(-b)), int(y0 + 1000*(a))),( int(x0 - 1000*(-b)),int(y0 - 1000*(a)) ), (255, 0, 0), 2)\n",
    "\n",
    "\n",
    "        #cv2.imshow('frame',gray)\n",
    "        cv2.imshow('thresholded',th_img)\n",
    "        cv2.imshow('edge',edge)\n",
    "        \n",
    "        cv2.imshow('lines',frame)\n",
    "        time.sleep(0.005)\n",
    "    \n",
    "    if cv2.waitKey(1) & 0xFF == ord('q'):\n",
    "        break\n",
    "\n",
    "cap.release()\n",
    "cv2.destroyAllWindows()"
   ]
  },
  {
   "cell_type": "code",
   "execution_count": 7,
   "metadata": {},
   "outputs": [],
   "source": [
    "import cv2\n",
    "import matplotlib.pyplot as plt\n",
    "import numpy as np\n",
    "import time\n",
    "\n",
    "cap = cv2.VideoCapture('vid.mp4')\n",
    "\n",
    "while(cap.isOpened()):\n",
    "    ret, frame = cap.read()\n",
    "    if ret:\n",
    "        gray = cv2.cvtColor(frame, cv2.COLOR_BGR2GRAY)\n",
    "        blur1 = cv2.blur(gray,(5,5))\n",
    "        _, th_img = cv2.threshold(blur1,200,255,cv2.THRESH_BINARY)\n",
    "        blur = cv2.blur(th_img,(5,5))\n",
    "\n",
    "        edge = cv2.Canny(blur, 180, 255, 30)\n",
    "\n",
    "       \n",
    "        # LSD\n",
    "        lsd = cv2.createLineSegmentDetector(0)\n",
    "        #Detect lines in the image\n",
    "        lines = lsd.detect(edge)[0] #Position 0 of the returned tuple are the detected lines\n",
    "        #Draw detected lines in the image\n",
    "        drawn_img = lsd.drawSegments(frame,lines)\n",
    "\n",
    "        #cv2.imshow('frame',gray)\n",
    "        cv2.imshow('thresholded',th_img)\n",
    "        cv2.imshow('edge',edge)\n",
    "        \n",
    "        cv2.imshow('lines',frame)\n",
    "        time.sleep(0.005)\n",
    "    \n",
    "    if cv2.waitKey(1) & 0xFF == ord('q'):\n",
    "        break\n",
    "\n",
    "cap.release()\n",
    "cv2.destroyAllWindows()"
   ]
  },
  {
   "cell_type": "code",
   "execution_count": null,
   "metadata": {},
   "outputs": [],
   "source": []
  }
 ]
}